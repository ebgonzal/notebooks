{
  "nbformat": 4,
  "nbformat_minor": 0,
  "metadata": {
    "colab": {
      "provenance": [],
      "toc_visible": true,
      "include_colab_link": true
    },
    "kernelspec": {
      "name": "python3",
      "display_name": "Python 3"
    },
    "language_info": {
      "name": "python"
    },
    "widgets": {
      "application/vnd.jupyter.widget-state+json": {
        "757e7c18e4ca449291d6179ce1b2146d": {
          "model_module": "jupyter-leaflet",
          "model_name": "LeafletMapModel",
          "model_module_version": "^0.17",
          "state": {
            "_dom_classes": [],
            "_model_module": "jupyter-leaflet",
            "_model_module_version": "^0.17",
            "_model_name": "LeafletMapModel",
            "_view_count": null,
            "_view_module": "jupyter-leaflet",
            "_view_module_version": "^0.17",
            "_view_name": "LeafletMapView",
            "bottom": 1067434,
            "bounce_at_zoom_limits": true,
            "box_zoom": true,
            "center": [
              -3.184051699641759,
              -47.74315712938321
            ],
            "close_popup_on_click": true,
            "controls": [
              "IPY_MODEL_e3151328e47a44989df4b07c1a606967",
              "IPY_MODEL_8cd81270cf6041eab2ed279b7a09bc7f",
              "IPY_MODEL_5a8a4ed0ba3b46a0aff146e6ad9581e2",
              "IPY_MODEL_5198fad102664e3fb37472642b6288d1",
              "IPY_MODEL_b829b31177f6417f9cb86bb53757ead6",
              "IPY_MODEL_8296fe8cee0746d2935d31dde960b0af",
              "IPY_MODEL_13142719fcc744cfb073f1407eb64520",
              "IPY_MODEL_fb68923c224346d78dad0bfc85adb2ea"
            ],
            "crs": {
              "name": "EPSG3857",
              "custom": false
            },
            "default_style": "IPY_MODEL_cc56d6a802e7458ea0dbeccec6e18d4f",
            "double_click_zoom": true,
            "dragging": true,
            "dragging_style": "IPY_MODEL_f10151d1e1ed4f828af0119547f0a50c",
            "east": -47.63535378465665,
            "fullscreen": false,
            "inertia": true,
            "inertia_deceleration": 3000,
            "inertia_max_speed": 1500,
            "interpolation": "bilinear",
            "keyboard": true,
            "keyboard_pan_offset": 80,
            "keyboard_zoom_offset": 1,
            "layers": [
              "IPY_MODEL_5213455c88484ccc8c89262931d08c21",
              "IPY_MODEL_8be261a0c3bd4a3abd9a927b8d581fd9"
            ],
            "layout": "IPY_MODEL_5271c62eaf3e445a8eb2ac157b560c9b",
            "left": 769823.9514994437,
            "max_zoom": 24,
            "min_zoom": null,
            "modisdate": "2023-11-17",
            "north": -3.132631509913631,
            "options": [
              "bounce_at_zoom_limits",
              "box_zoom",
              "center",
              "close_popup_on_click",
              "double_click_zoom",
              "dragging",
              "fullscreen",
              "inertia",
              "inertia_deceleration",
              "inertia_max_speed",
              "interpolation",
              "keyboard",
              "keyboard_pan_offset",
              "keyboard_zoom_offset",
              "max_zoom",
              "min_zoom",
              "prefer_canvas",
              "scroll_wheel_zoom",
              "tap",
              "tap_tolerance",
              "touch_zoom",
              "world_copy_jump",
              "zoom",
              "zoom_animation_threshold",
              "zoom_delta",
              "zoom_snap"
            ],
            "panes": {},
            "prefer_canvas": false,
            "right": 771079.9514994437,
            "scroll_wheel_zoom": true,
            "south": -3.2354693223580075,
            "style": "IPY_MODEL_cc56d6a802e7458ea0dbeccec6e18d4f",
            "tap": true,
            "tap_tolerance": 15,
            "top": 1066834,
            "touch_zoom": true,
            "west": -47.850960474109776,
            "window_url": "https://21p9f4jcysdj-496ff2e9c6d22116-0-colab.googleusercontent.com/outputframe.html?vrz=colab_20231116-060106_RC00_582998276",
            "world_copy_jump": false,
            "zoom": 13,
            "zoom_animation_threshold": 4,
            "zoom_delta": 1,
            "zoom_snap": 1
          }
        },
        "e3151328e47a44989df4b07c1a606967": {
          "model_module": "jupyter-leaflet",
          "model_name": "LeafletWidgetControlModel",
          "model_module_version": "^0.17",
          "state": {
            "_model_module": "jupyter-leaflet",
            "_model_module_version": "^0.17",
            "_model_name": "LeafletWidgetControlModel",
            "_view_count": null,
            "_view_module": "jupyter-leaflet",
            "_view_module_version": "^0.17",
            "_view_name": "LeafletWidgetControlView",
            "max_height": null,
            "max_width": null,
            "min_height": null,
            "min_width": null,
            "options": [
              "position",
              "transparent_bg"
            ],
            "position": "topleft",
            "transparent_bg": false,
            "widget": "IPY_MODEL_ed5c9277978c40e8a9c5333be66768cc"
          }
        },
        "8cd81270cf6041eab2ed279b7a09bc7f": {
          "model_module": "jupyter-leaflet",
          "model_name": "LeafletZoomControlModel",
          "model_module_version": "^0.17",
          "state": {
            "_model_module": "jupyter-leaflet",
            "_model_module_version": "^0.17",
            "_model_name": "LeafletZoomControlModel",
            "_view_count": null,
            "_view_module": "jupyter-leaflet",
            "_view_module_version": "^0.17",
            "_view_name": "LeafletZoomControlView",
            "options": [
              "position",
              "zoom_in_text",
              "zoom_in_title",
              "zoom_out_text",
              "zoom_out_title"
            ],
            "position": "topleft",
            "zoom_in_text": "+",
            "zoom_in_title": "Zoom in",
            "zoom_out_text": "-",
            "zoom_out_title": "Zoom out"
          }
        },
        "5a8a4ed0ba3b46a0aff146e6ad9581e2": {
          "model_module": "jupyter-leaflet",
          "model_name": "LeafletFullScreenControlModel",
          "model_module_version": "^0.17",
          "state": {
            "_model_module": "jupyter-leaflet",
            "_model_module_version": "^0.17",
            "_model_name": "LeafletFullScreenControlModel",
            "_view_count": null,
            "_view_module": "jupyter-leaflet",
            "_view_module_version": "^0.17",
            "_view_name": "LeafletFullScreenControlView",
            "options": [
              "position"
            ],
            "position": "topleft"
          }
        },
        "5198fad102664e3fb37472642b6288d1": {
          "model_module": "jupyter-leaflet",
          "model_name": "LeafletDrawControlModel",
          "model_module_version": "^0.17",
          "state": {
            "_model_module": "jupyter-leaflet",
            "_model_module_version": "^0.17",
            "_model_name": "LeafletDrawControlModel",
            "_view_count": null,
            "_view_module": "jupyter-leaflet",
            "_view_module_version": "^0.17",
            "_view_name": "LeafletDrawControlView",
            "circle": {},
            "circlemarker": {},
            "data": [],
            "edit": true,
            "marker": {
              "shapeOptions": {
                "color": "#3388ff"
              }
            },
            "options": [
              "position"
            ],
            "polygon": {
              "shapeOptions": {}
            },
            "polyline": {
              "shapeOptions": {}
            },
            "position": "topleft",
            "rectangle": {
              "shapeOptions": {
                "color": "#3388ff"
              }
            },
            "remove": true
          }
        },
        "b829b31177f6417f9cb86bb53757ead6": {
          "model_module": "jupyter-leaflet",
          "model_name": "LeafletScaleControlModel",
          "model_module_version": "^0.17",
          "state": {
            "_model_module": "jupyter-leaflet",
            "_model_module_version": "^0.17",
            "_model_name": "LeafletScaleControlModel",
            "_view_count": null,
            "_view_module": "jupyter-leaflet",
            "_view_module_version": "^0.17",
            "_view_name": "LeafletScaleControlView",
            "imperial": true,
            "max_width": 100,
            "metric": true,
            "options": [
              "imperial",
              "max_width",
              "metric",
              "position",
              "update_when_idle"
            ],
            "position": "bottomleft",
            "update_when_idle": false
          }
        },
        "8296fe8cee0746d2935d31dde960b0af": {
          "model_module": "jupyter-leaflet",
          "model_name": "LeafletMeasureControlModel",
          "model_module_version": "^0.17",
          "state": {
            "_custom_units": {},
            "_model_module": "jupyter-leaflet",
            "_model_module_version": "^0.17",
            "_model_name": "LeafletMeasureControlModel",
            "_view_count": null,
            "_view_module": "jupyter-leaflet",
            "_view_module_version": "^0.17",
            "_view_name": "LeafletMeasureControlView",
            "active_color": "orange",
            "capture_z_index": 10000,
            "completed_color": "#C8F2BE",
            "options": [
              "active_color",
              "capture_z_index",
              "completed_color",
              "popup_options",
              "position",
              "primary_area_unit",
              "primary_length_unit",
              "secondary_area_unit",
              "secondary_length_unit"
            ],
            "popup_options": {
              "className": "leaflet-measure-resultpopup",
              "autoPanPadding": [
                10,
                10
              ]
            },
            "position": "bottomleft",
            "primary_area_unit": "acres",
            "primary_length_unit": "kilometers",
            "secondary_area_unit": null,
            "secondary_length_unit": null
          }
        },
        "13142719fcc744cfb073f1407eb64520": {
          "model_module": "jupyter-leaflet",
          "model_name": "LeafletWidgetControlModel",
          "model_module_version": "^0.17",
          "state": {
            "_model_module": "jupyter-leaflet",
            "_model_module_version": "^0.17",
            "_model_name": "LeafletWidgetControlModel",
            "_view_count": null,
            "_view_module": "jupyter-leaflet",
            "_view_module_version": "^0.17",
            "_view_name": "LeafletWidgetControlView",
            "max_height": null,
            "max_width": null,
            "min_height": null,
            "min_width": null,
            "options": [
              "position",
              "transparent_bg"
            ],
            "position": "topright",
            "transparent_bg": false,
            "widget": "IPY_MODEL_81f9db4498ff44b1bc27533903a9b25a"
          }
        },
        "fb68923c224346d78dad0bfc85adb2ea": {
          "model_module": "jupyter-leaflet",
          "model_name": "LeafletAttributionControlModel",
          "model_module_version": "^0.17",
          "state": {
            "_model_module": "jupyter-leaflet",
            "_model_module_version": "^0.17",
            "_model_name": "LeafletAttributionControlModel",
            "_view_count": null,
            "_view_module": "jupyter-leaflet",
            "_view_module_version": "^0.17",
            "_view_name": "LeafletAttributionControlView",
            "options": [
              "position",
              "prefix"
            ],
            "position": "bottomright",
            "prefix": "ipyleaflet"
          }
        },
        "cc56d6a802e7458ea0dbeccec6e18d4f": {
          "model_module": "jupyter-leaflet",
          "model_name": "LeafletMapStyleModel",
          "model_module_version": "^0.17",
          "state": {
            "_model_module": "jupyter-leaflet",
            "_model_module_version": "^0.17",
            "_model_name": "LeafletMapStyleModel",
            "_view_count": null,
            "_view_module": "@jupyter-widgets/base",
            "_view_module_version": "1.2.0",
            "_view_name": "StyleView",
            "cursor": "grab"
          }
        },
        "f10151d1e1ed4f828af0119547f0a50c": {
          "model_module": "jupyter-leaflet",
          "model_name": "LeafletMapStyleModel",
          "model_module_version": "^0.17",
          "state": {
            "_model_module": "jupyter-leaflet",
            "_model_module_version": "^0.17",
            "_model_name": "LeafletMapStyleModel",
            "_view_count": null,
            "_view_module": "@jupyter-widgets/base",
            "_view_module_version": "1.2.0",
            "_view_name": "StyleView",
            "cursor": "move"
          }
        },
        "5213455c88484ccc8c89262931d08c21": {
          "model_module": "jupyter-leaflet",
          "model_name": "LeafletTileLayerModel",
          "model_module_version": "^0.17",
          "state": {
            "_model_module": "jupyter-leaflet",
            "_model_module_version": "^0.17",
            "_model_name": "LeafletTileLayerModel",
            "_view_count": null,
            "_view_module": "jupyter-leaflet",
            "_view_module_version": "^0.17",
            "_view_name": "LeafletTileLayerView",
            "attribution": "&copy; <a href=\"https://www.openstreetmap.org/copyright\">OpenStreetMap</a> contributors",
            "base": true,
            "bottom": true,
            "bounds": null,
            "detect_retina": false,
            "loading": false,
            "max_native_zoom": null,
            "max_zoom": 19,
            "min_native_zoom": null,
            "min_zoom": 1,
            "name": "OpenStreetMap.Mapnik",
            "no_wrap": false,
            "opacity": 1,
            "options": [
              "attribution",
              "bounds",
              "detect_retina",
              "max_native_zoom",
              "max_zoom",
              "min_native_zoom",
              "min_zoom",
              "no_wrap",
              "tile_size",
              "tms",
              "zoom_offset"
            ],
            "pane": "",
            "popup": null,
            "popup_max_height": null,
            "popup_max_width": 300,
            "popup_min_width": 50,
            "show_loading": false,
            "subitems": [],
            "tile_size": 256,
            "tms": false,
            "url": "https://tile.openstreetmap.org/{z}/{x}/{y}.png",
            "visible": true,
            "zoom_offset": 0
          }
        },
        "8be261a0c3bd4a3abd9a927b8d581fd9": {
          "model_module": "jupyter-leaflet",
          "model_name": "LeafletTileLayerModel",
          "model_module_version": "^0.17",
          "state": {
            "_model_module": "jupyter-leaflet",
            "_model_module_version": "^0.17",
            "_model_name": "LeafletTileLayerModel",
            "_view_count": null,
            "_view_module": "jupyter-leaflet",
            "_view_module_version": "^0.17",
            "_view_name": "LeafletTileLayerView",
            "attribution": "Google Earth Engine",
            "base": false,
            "bottom": true,
            "bounds": null,
            "detect_retina": false,
            "loading": false,
            "max_native_zoom": null,
            "max_zoom": 24,
            "min_native_zoom": null,
            "min_zoom": 0,
            "name": "NDFI",
            "no_wrap": false,
            "opacity": 1,
            "options": [
              "attribution",
              "bounds",
              "detect_retina",
              "max_native_zoom",
              "max_zoom",
              "min_native_zoom",
              "min_zoom",
              "no_wrap",
              "tile_size",
              "tms",
              "zoom_offset"
            ],
            "pane": "",
            "popup": null,
            "popup_max_height": null,
            "popup_max_width": 300,
            "popup_min_width": 50,
            "show_loading": false,
            "subitems": [],
            "tile_size": 256,
            "tms": false,
            "url": "https://earthengine.googleapis.com/v1/projects/earthengine-legacy/maps/bed39a40b9eda20c87ed9abaee411cb4-768ad19f5b4ba9b9aa8427425c59d2b8/tiles/{z}/{x}/{y}",
            "visible": true,
            "zoom_offset": 0
          }
        },
        "5271c62eaf3e445a8eb2ac157b560c9b": {
          "model_module": "@jupyter-widgets/base",
          "model_name": "LayoutModel",
          "model_module_version": "1.2.0",
          "state": {
            "_model_module": "@jupyter-widgets/base",
            "_model_module_version": "1.2.0",
            "_model_name": "LayoutModel",
            "_view_count": null,
            "_view_module": "@jupyter-widgets/base",
            "_view_module_version": "1.2.0",
            "_view_name": "LayoutView",
            "align_content": null,
            "align_items": null,
            "align_self": null,
            "border": null,
            "bottom": null,
            "display": null,
            "flex": null,
            "flex_flow": null,
            "grid_area": null,
            "grid_auto_columns": null,
            "grid_auto_flow": null,
            "grid_auto_rows": null,
            "grid_column": null,
            "grid_gap": null,
            "grid_row": null,
            "grid_template_areas": null,
            "grid_template_columns": null,
            "grid_template_rows": null,
            "height": "600px",
            "justify_content": null,
            "justify_items": null,
            "left": null,
            "margin": null,
            "max_height": null,
            "max_width": null,
            "min_height": null,
            "min_width": null,
            "object_fit": null,
            "object_position": null,
            "order": null,
            "overflow": null,
            "overflow_x": null,
            "overflow_y": null,
            "padding": null,
            "right": null,
            "top": null,
            "visibility": null,
            "width": null
          }
        },
        "a277e6f3148244e49192c6161496317b": {
          "model_module": "jupyter-leaflet",
          "model_name": "LeafletMapStyleModel",
          "model_module_version": "^0.17",
          "state": {
            "_model_module": "jupyter-leaflet",
            "_model_module_version": "^0.17",
            "_model_name": "LeafletMapStyleModel",
            "_view_count": null,
            "_view_module": "@jupyter-widgets/base",
            "_view_module_version": "1.2.0",
            "_view_name": "StyleView",
            "cursor": "grab"
          }
        },
        "ed5c9277978c40e8a9c5333be66768cc": {
          "model_module": "@jupyter-widgets/controls",
          "model_name": "HBoxModel",
          "model_module_version": "1.5.0",
          "state": {
            "_dom_classes": [
              "geemap-colab"
            ],
            "_model_module": "@jupyter-widgets/controls",
            "_model_module_version": "1.5.0",
            "_model_name": "HBoxModel",
            "_view_count": null,
            "_view_module": "@jupyter-widgets/controls",
            "_view_module_version": "1.5.0",
            "_view_name": "HBoxView",
            "box_style": "",
            "children": [
              "IPY_MODEL_6a818648ad5247df83a590407f205990"
            ],
            "layout": "IPY_MODEL_855d7a043f634bd0ade3b16f0baf7adc"
          }
        },
        "81f9db4498ff44b1bc27533903a9b25a": {
          "model_module": "@jupyter-widgets/controls",
          "model_name": "VBoxModel",
          "model_module_version": "1.5.0",
          "state": {
            "_dom_classes": [
              "geemap-colab"
            ],
            "_model_module": "@jupyter-widgets/controls",
            "_model_module_version": "1.5.0",
            "_model_name": "VBoxModel",
            "_view_count": null,
            "_view_module": "@jupyter-widgets/controls",
            "_view_module_version": "1.5.0",
            "_view_name": "VBoxView",
            "box_style": "",
            "children": [
              "IPY_MODEL_902e383bf3d942b3a28c71ae41ab15e8"
            ],
            "layout": "IPY_MODEL_a090407daaa54e008e50bccc3785983e"
          }
        },
        "6a818648ad5247df83a590407f205990": {
          "model_module": "@jupyter-widgets/controls",
          "model_name": "ToggleButtonModel",
          "model_module_version": "1.5.0",
          "state": {
            "_dom_classes": [],
            "_model_module": "@jupyter-widgets/controls",
            "_model_module_version": "1.5.0",
            "_model_name": "ToggleButtonModel",
            "_view_count": null,
            "_view_module": "@jupyter-widgets/controls",
            "_view_module_version": "1.5.0",
            "_view_name": "ToggleButtonView",
            "button_style": "",
            "description": "",
            "description_tooltip": null,
            "disabled": false,
            "icon": "globe",
            "layout": "IPY_MODEL_7979e60eaa274097b55fcf489eda7567",
            "style": "IPY_MODEL_87802df2b9cc4a7d8bbea09cd23be2a6",
            "tooltip": "Search location/data",
            "value": false
          }
        },
        "855d7a043f634bd0ade3b16f0baf7adc": {
          "model_module": "@jupyter-widgets/base",
          "model_name": "LayoutModel",
          "model_module_version": "1.2.0",
          "state": {
            "_model_module": "@jupyter-widgets/base",
            "_model_module_version": "1.2.0",
            "_model_name": "LayoutModel",
            "_view_count": null,
            "_view_module": "@jupyter-widgets/base",
            "_view_module_version": "1.2.0",
            "_view_name": "LayoutView",
            "align_content": null,
            "align_items": null,
            "align_self": null,
            "border": null,
            "bottom": null,
            "display": null,
            "flex": null,
            "flex_flow": null,
            "grid_area": null,
            "grid_auto_columns": null,
            "grid_auto_flow": null,
            "grid_auto_rows": null,
            "grid_column": null,
            "grid_gap": null,
            "grid_row": null,
            "grid_template_areas": null,
            "grid_template_columns": null,
            "grid_template_rows": null,
            "height": null,
            "justify_content": null,
            "justify_items": null,
            "left": null,
            "margin": null,
            "max_height": null,
            "max_width": null,
            "min_height": null,
            "min_width": null,
            "object_fit": null,
            "object_position": null,
            "order": null,
            "overflow": null,
            "overflow_x": null,
            "overflow_y": null,
            "padding": null,
            "right": null,
            "top": null,
            "visibility": null,
            "width": null
          }
        },
        "902e383bf3d942b3a28c71ae41ab15e8": {
          "model_module": "@jupyter-widgets/controls",
          "model_name": "ToggleButtonModel",
          "model_module_version": "1.5.0",
          "state": {
            "_dom_classes": [],
            "_model_module": "@jupyter-widgets/controls",
            "_model_module_version": "1.5.0",
            "_model_name": "ToggleButtonModel",
            "_view_count": null,
            "_view_module": "@jupyter-widgets/controls",
            "_view_module_version": "1.5.0",
            "_view_name": "ToggleButtonView",
            "button_style": "",
            "description": "",
            "description_tooltip": null,
            "disabled": false,
            "icon": "wrench",
            "layout": "IPY_MODEL_f08b21f593fd425ab077cb53b37c8a76",
            "style": "IPY_MODEL_d64f8b4773374fc48fd0b6d3f30ec925",
            "tooltip": "Toolbar",
            "value": false
          }
        },
        "a090407daaa54e008e50bccc3785983e": {
          "model_module": "@jupyter-widgets/base",
          "model_name": "LayoutModel",
          "model_module_version": "1.2.0",
          "state": {
            "_model_module": "@jupyter-widgets/base",
            "_model_module_version": "1.2.0",
            "_model_name": "LayoutModel",
            "_view_count": null,
            "_view_module": "@jupyter-widgets/base",
            "_view_module_version": "1.2.0",
            "_view_name": "LayoutView",
            "align_content": null,
            "align_items": null,
            "align_self": null,
            "border": null,
            "bottom": null,
            "display": null,
            "flex": null,
            "flex_flow": null,
            "grid_area": null,
            "grid_auto_columns": null,
            "grid_auto_flow": null,
            "grid_auto_rows": null,
            "grid_column": null,
            "grid_gap": null,
            "grid_row": null,
            "grid_template_areas": null,
            "grid_template_columns": null,
            "grid_template_rows": null,
            "height": null,
            "justify_content": null,
            "justify_items": null,
            "left": null,
            "margin": null,
            "max_height": null,
            "max_width": null,
            "min_height": null,
            "min_width": null,
            "object_fit": null,
            "object_position": null,
            "order": null,
            "overflow": null,
            "overflow_x": null,
            "overflow_y": null,
            "padding": null,
            "right": null,
            "top": null,
            "visibility": null,
            "width": null
          }
        },
        "7979e60eaa274097b55fcf489eda7567": {
          "model_module": "@jupyter-widgets/base",
          "model_name": "LayoutModel",
          "model_module_version": "1.2.0",
          "state": {
            "_model_module": "@jupyter-widgets/base",
            "_model_module_version": "1.2.0",
            "_model_name": "LayoutModel",
            "_view_count": null,
            "_view_module": "@jupyter-widgets/base",
            "_view_module_version": "1.2.0",
            "_view_name": "LayoutView",
            "align_content": null,
            "align_items": null,
            "align_self": null,
            "border": null,
            "bottom": null,
            "display": null,
            "flex": null,
            "flex_flow": null,
            "grid_area": null,
            "grid_auto_columns": null,
            "grid_auto_flow": null,
            "grid_auto_rows": null,
            "grid_column": null,
            "grid_gap": null,
            "grid_row": null,
            "grid_template_areas": null,
            "grid_template_columns": null,
            "grid_template_rows": null,
            "height": "28px",
            "justify_content": null,
            "justify_items": null,
            "left": null,
            "margin": null,
            "max_height": null,
            "max_width": null,
            "min_height": null,
            "min_width": null,
            "object_fit": null,
            "object_position": null,
            "order": null,
            "overflow": null,
            "overflow_x": null,
            "overflow_y": null,
            "padding": "0px 0px 0px 4px",
            "right": null,
            "top": null,
            "visibility": null,
            "width": "28px"
          }
        },
        "87802df2b9cc4a7d8bbea09cd23be2a6": {
          "model_module": "@jupyter-widgets/controls",
          "model_name": "DescriptionStyleModel",
          "model_module_version": "1.5.0",
          "state": {
            "_model_module": "@jupyter-widgets/controls",
            "_model_module_version": "1.5.0",
            "_model_name": "DescriptionStyleModel",
            "_view_count": null,
            "_view_module": "@jupyter-widgets/base",
            "_view_module_version": "1.2.0",
            "_view_name": "StyleView",
            "description_width": ""
          }
        },
        "f08b21f593fd425ab077cb53b37c8a76": {
          "model_module": "@jupyter-widgets/base",
          "model_name": "LayoutModel",
          "model_module_version": "1.2.0",
          "state": {
            "_model_module": "@jupyter-widgets/base",
            "_model_module_version": "1.2.0",
            "_model_name": "LayoutModel",
            "_view_count": null,
            "_view_module": "@jupyter-widgets/base",
            "_view_module_version": "1.2.0",
            "_view_name": "LayoutView",
            "align_content": null,
            "align_items": null,
            "align_self": null,
            "border": null,
            "bottom": null,
            "display": null,
            "flex": null,
            "flex_flow": null,
            "grid_area": null,
            "grid_auto_columns": null,
            "grid_auto_flow": null,
            "grid_auto_rows": null,
            "grid_column": null,
            "grid_gap": null,
            "grid_row": null,
            "grid_template_areas": null,
            "grid_template_columns": null,
            "grid_template_rows": null,
            "height": "28px",
            "justify_content": null,
            "justify_items": null,
            "left": null,
            "margin": null,
            "max_height": null,
            "max_width": null,
            "min_height": null,
            "min_width": null,
            "object_fit": null,
            "object_position": null,
            "order": null,
            "overflow": null,
            "overflow_x": null,
            "overflow_y": null,
            "padding": "0px 0px 0px 4px",
            "right": null,
            "top": null,
            "visibility": null,
            "width": "28px"
          }
        },
        "d64f8b4773374fc48fd0b6d3f30ec925": {
          "model_module": "@jupyter-widgets/controls",
          "model_name": "DescriptionStyleModel",
          "model_module_version": "1.5.0",
          "state": {
            "_model_module": "@jupyter-widgets/controls",
            "_model_module_version": "1.5.0",
            "_model_name": "DescriptionStyleModel",
            "_view_count": null,
            "_view_module": "@jupyter-widgets/base",
            "_view_module_version": "1.2.0",
            "_view_name": "StyleView",
            "description_width": ""
          }
        }
      }
    }
  },
  "cells": [
    {
      "cell_type": "markdown",
      "metadata": {
        "id": "view-in-github",
        "colab_type": "text"
      },
      "source": [
        "<a href=\"https://colab.research.google.com/github/ebgonzal/notebooks/blob/master/HELPER_CHALLENGE.ipynb\" target=\"_parent\"><img src=\"https://colab.research.google.com/assets/colab-badge.svg\" alt=\"Open In Colab\"/></a>"
      ]
    },
    {
      "cell_type": "markdown",
      "source": [
        "\n",
        "#### This notebook is aimed to help candidates to implement a new solution to detect disturbance and recovey on forest vegetation\n",
        "\n",
        "\n",
        "**📚**"
      ],
      "metadata": {
        "id": "TK7CZiU7J8BA"
      }
    },
    {
      "cell_type": "markdown",
      "source": [
        "## Import all required modules"
      ],
      "metadata": {
        "id": "IJTnEehiLONz"
      }
    },
    {
      "cell_type": "code",
      "source": [
        "import ee\n",
        "import geemap"
      ],
      "metadata": {
        "colab": {
          "base_uri": "https://localhost:8080/",
          "height": 17
        },
        "id": "AhQyGxJ-J-l7",
        "outputId": "d2b150ae-5bcf-4608-9028-00f6c065d5ca"
      },
      "execution_count": null,
      "outputs": [
        {
          "output_type": "display_data",
          "data": {
            "text/plain": [
              "<IPython.core.display.HTML object>"
            ],
            "text/html": [
              "\n",
              "            <style>\n",
              "                .geemap-dark {\n",
              "                    --jp-widgets-color: white;\n",
              "                    --jp-widgets-label-color: white;\n",
              "                    --jp-ui-font-color1: white;\n",
              "                    --jp-layout-color2: #454545;\n",
              "                    background-color: #383838;\n",
              "                }\n",
              "                    \n",
              "                .geemap-dark .jupyter-button {\n",
              "                    --jp-layout-color3: #383838;\n",
              "                }\n",
              "                \n",
              "                .geemap-colab {\n",
              "                    background-color: var(--colab-primary-surface-color, white);\n",
              "                }\n",
              "                    \n",
              "                .geemap-colab .jupyter-button {\n",
              "                    --jp-layout-color3: var(--colab-primary-surface-color, white);\n",
              "                }\n",
              "            </style>\n",
              "            "
            ]
          },
          "metadata": {}
        }
      ]
    },
    {
      "cell_type": "markdown",
      "source": [
        "## Config variables"
      ],
      "metadata": {
        "id": "fiKvvDG9Lddp"
      }
    },
    {
      "cell_type": "code",
      "source": [
        "\n",
        "Map = geemap.Map()\n",
        "\n",
        "SENSOR = 'LANDSAT' # LANDSAT | SENTINEL\n",
        "\n",
        "# if you set true the ndfi values will be rescaled to 1-200\n",
        "USE_INT_VALUES = False\n",
        "\n",
        "\n",
        "PERIOD_T0 = ['2020-05-01', '2020-10-30']\n",
        "PERIOD_T1 = ['2022-05-01', '2022-10-30']\n",
        "\n",
        "\n",
        "# just an example\n",
        "YOUR_ROI = ee.Geometry.Polygon([\n",
        "    [\n",
        "      [\n",
        "        -47.68676230217102,\n",
        "        -3.183132014269646\n",
        "      ],\n",
        "      [\n",
        "        -47.501368015061644,\n",
        "        -3.183132014269646\n",
        "      ],\n",
        "      [\n",
        "        -47.501368015061644,\n",
        "        -3.0000645687350738\n",
        "      ],\n",
        "      [\n",
        "        -47.68676230217102,\n",
        "        -3.0000645687350738\n",
        "      ],\n",
        "      [\n",
        "        -47.68676230217102,\n",
        "        -3.183132014269646\n",
        "      ]\n",
        "    ]\n",
        "])\n",
        "\n",
        "\n",
        "\n",
        "\n",
        "\n",
        "\n",
        "# only for SENTINEL\n",
        "ASSET_SENTINEL = 'COPERNICUS/S2_HARMONIZED'\n",
        "ASSET_CLOUD_PROB = 'GOOGLE/CLOUD_SCORE_PLUS/V1/S2_HARMONIZED'\n",
        "\n",
        "BANDS = [\n",
        "    'B2',\n",
        "    'B3',\n",
        "    'B4',\n",
        "    'B8',\n",
        "    'B11',\n",
        "    'B12'\n",
        "]\n",
        "\n",
        "NEW_BAND_NAMES = [\n",
        "    'blue',\n",
        "    'green',\n",
        "    'red',\n",
        "    'nir',\n",
        "    'swir1',\n",
        "    'swir2'\n",
        "]\n",
        "\n",
        "\n",
        "# Use 'cs' or 'cs_cdf', depending on your use case; see docs for guidance.\n",
        "# source: https://code.earthengine.google.com/?scriptPath=Examples%3ADatasets%2FGOOGLE%2FGOOGLE_CLOUD_SCORE_PLUS_V1_S2_HARMONIZED\n",
        "QA_BAND = 'cs_cdf';\n",
        "\n",
        "CLEAR_THRESHOLD = 0.60"
      ],
      "metadata": {
        "colab": {
          "base_uri": "https://localhost:8080/",
          "height": 17
        },
        "id": "JlbKDNg-LfUE",
        "outputId": "e68bc2ff-3ee9-4809-8f95-a156ede9dd5d"
      },
      "execution_count": null,
      "outputs": [
        {
          "output_type": "display_data",
          "data": {
            "text/plain": [
              "<IPython.core.display.HTML object>"
            ],
            "text/html": [
              "\n",
              "            <style>\n",
              "                .geemap-dark {\n",
              "                    --jp-widgets-color: white;\n",
              "                    --jp-widgets-label-color: white;\n",
              "                    --jp-ui-font-color1: white;\n",
              "                    --jp-layout-color2: #454545;\n",
              "                    background-color: #383838;\n",
              "                }\n",
              "                    \n",
              "                .geemap-dark .jupyter-button {\n",
              "                    --jp-layout-color3: #383838;\n",
              "                }\n",
              "                \n",
              "                .geemap-colab {\n",
              "                    background-color: var(--colab-primary-surface-color, white);\n",
              "                }\n",
              "                    \n",
              "                .geemap-colab .jupyter-button {\n",
              "                    --jp-layout-color3: var(--colab-primary-surface-color, white);\n",
              "                }\n",
              "            </style>\n",
              "            "
            ]
          },
          "metadata": {}
        }
      ]
    },
    {
      "cell_type": "markdown",
      "source": [
        "## Cloud Collection for Sentinel"
      ],
      "metadata": {
        "id": "RGjqRKNdPy5r"
      }
    },
    {
      "cell_type": "code",
      "source": [
        "cloud_prob_sentinel = ee.ImageCollection(ASSET_SENTINEL)"
      ],
      "metadata": {
        "colab": {
          "base_uri": "https://localhost:8080/",
          "height": 17
        },
        "id": "P-6o4EPkP2HJ",
        "outputId": "04a6d3ec-b104-4318-87b7-2a8a3dbbe3f8"
      },
      "execution_count": null,
      "outputs": [
        {
          "output_type": "display_data",
          "data": {
            "text/plain": [
              "<IPython.core.display.HTML object>"
            ],
            "text/html": [
              "\n",
              "            <style>\n",
              "                .geemap-dark {\n",
              "                    --jp-widgets-color: white;\n",
              "                    --jp-widgets-label-color: white;\n",
              "                    --jp-ui-font-color1: white;\n",
              "                    --jp-layout-color2: #454545;\n",
              "                    background-color: #383838;\n",
              "                }\n",
              "                    \n",
              "                .geemap-dark .jupyter-button {\n",
              "                    --jp-layout-color3: #383838;\n",
              "                }\n",
              "                \n",
              "                .geemap-colab {\n",
              "                    background-color: var(--colab-primary-surface-color, white);\n",
              "                }\n",
              "                    \n",
              "                .geemap-colab .jupyter-button {\n",
              "                    --jp-layout-color3: var(--colab-primary-surface-color, white);\n",
              "                }\n",
              "            </style>\n",
              "            "
            ]
          },
          "metadata": {}
        }
      ]
    },
    {
      "cell_type": "markdown",
      "source": [
        "## Helper functions"
      ],
      "metadata": {
        "id": "KxI_zvpyLtUh"
      }
    },
    {
      "cell_type": "code",
      "source": [
        "def get_fractions(image):\n",
        "\n",
        "    ENDMEMBERS = [\n",
        "        [0.0119,0.0475,0.0169,0.625,0.2399,0.0675], # gv\n",
        "        [0.1514,0.1597,0.1421,0.3053,0.7707,0.1975], # npv\n",
        "        [0.1799,0.2479,0.3158,0.5437,0.7707,0.6646], # soil\n",
        "        [0.4031,0.8714,0.79,0.8989,0.7002,0.6607] # cloud\n",
        "    ]\n",
        "\n",
        "    if USE_INT_VALUES:\n",
        "        ENDMEMBERS = [\n",
        "            [119.0, 475.0, 169.0, 6250.0, 2399.0, 675.0],  # gv\n",
        "            [1514.0, 1597.0, 1421.0, 3053.0, 7707.0, 1975.0], # npv\n",
        "            [1799.0, 2479.0, 3158.0, 5437.0, 7707.0, 6646.0],  # soil\n",
        "            [4031.0, 8714.0, 7900.0, 8989.0, 7002.0, 6607.0]  # cloud\n",
        "        ]\n",
        "\n",
        "\n",
        "    outBandNames = ['gv', 'npv', 'soil', 'cloud']\n",
        "\n",
        "    fractions = ee.Image(image)\\\n",
        "        .select(['blue', 'green', 'red', 'nir', 'swir1', 'swir2'])\\\n",
        "        .unmix(ENDMEMBERS)\n",
        "\n",
        "    if USE_INT_VALUES:\n",
        "        fractions = fractions\\\n",
        "            .max(0)\\\n",
        "            .multiply(100)\\\n",
        "            .byte()\n",
        "    else:\n",
        "        fractions = fractions\\\n",
        "            .max(0)\n",
        "            #.multiply(100)\\\n",
        "            #.byte()\n",
        "\n",
        "    fractions = fractions.rename(outBandNames)\n",
        "\n",
        "    summed = fractions.expression('b(\"gv\") + b(\"npv\") + b(\"soil\")')\n",
        "\n",
        "    if USE_INT_VALUES:\n",
        "        shade = summed.subtract(100).abs().byte().rename(\"shade\")\n",
        "    else:\n",
        "        shade = summed.subtract(1).abs().rename(\"shade\")\n",
        "\n",
        "\n",
        "    fractions = fractions.addBands(shade)\n",
        "\n",
        "    return image.addBands(fractions)\n",
        "\n",
        "\n",
        "def get_ndfi(image):\n",
        "\n",
        "    summed = image.expression('b(\"gv\") + b(\"npv\") + b(\"soil\")')\n",
        "\n",
        "    if USE_INT_VALUES:\n",
        "        gvs = image.select(\"gv\").divide(summed).multiply(100).rename(\"gvs\")\n",
        "    else:\n",
        "        gvs = image.select(\"gv\").divide(summed).rename(\"gvs\")\n",
        "\n",
        "    npvSoil = image.expression('b(\"npv\") + b(\"soil\")')\n",
        "\n",
        "    ndfi = ee.Image.cat(gvs, npvSoil) \\\n",
        "        .normalizedDifference() \\\n",
        "        .rename('ndfi')\n",
        "\n",
        "    if USE_INT_VALUES:\n",
        "        # rescale NDFI from 0 to 200 \\\n",
        "        ndfi = ndfi.expression('byte(b(\"ndfi\") * 100 + 100)')\n",
        "\n",
        "    image = image.addBands(gvs)\n",
        "    image = image.addBands(ndfi)\n",
        "\n",
        "    return ee.Image(image)\n",
        "\n",
        "\n",
        "def get_collection(date_start, date_end, cloud_cover, roi, cloud_thresh):\n",
        "    collection = None\n",
        "    l5 = None\n",
        "    l7 = None\n",
        "    l8 = None\n",
        "    l9 = None\n",
        "    bands = [\n",
        "        'blue',\n",
        "        'green',\n",
        "        'red',\n",
        "        'nir',\n",
        "        'swir1',\n",
        "        'swir2',\n",
        "        'pixel_qa',\n",
        "        'tir'\n",
        "    ]\n",
        "\n",
        "    l5 = ee.ImageCollection('LANDSAT/LT05/C02/T1_L2') \\\n",
        "        .filter(ee.Filter.lte('CLOUD_COVER', cloud_cover)) \\\n",
        "        .filterBounds(roi) \\\n",
        "        .filterDate(date_start, date_end)\n",
        "\n",
        "    l5 = scale_factor_bands(USE_INT_VALUES, l5) \\\n",
        "        .select(\n",
        "            ['SR_B1', 'SR_B2', 'SR_B3', 'SR_B4', 'SR_B5', 'SR_B7', 'QA_PIXEL', 'ST_B6'],\n",
        "            bands\n",
        "        ) \\\n",
        "        .map(lambda image: image.set('time', image.get('system:time_start')))\n",
        "\n",
        "    l7 = ee.ImageCollection('LANDSAT/LE07/C02/T1_L2') \\\n",
        "        .filter(ee.Filter.lte('CLOUD_COVER', cloud_cover)) \\\n",
        "        .filterBounds(roi) \\\n",
        "        .filterDate(date_start, date_end)\n",
        "\n",
        "    l7 = scale_factor_bands(USE_INT_VALUES, l7) \\\n",
        "        .select(\n",
        "            ['SR_B1', 'SR_B2', 'SR_B3', 'SR_B4', 'SR_B5', 'SR_B7', 'QA_PIXEL', 'ST_B6'],\n",
        "            bands\n",
        "        ) \\\n",
        "        .map(lambda image: image.set('time', image.get('system:time_start')))\n",
        "\n",
        "    l8 = ee.ImageCollection('LANDSAT/LC08/C02/T1_L2') \\\n",
        "        .filter(ee.Filter.lte('CLOUD_COVER', cloud_cover)) \\\n",
        "        .filterBounds(roi) \\\n",
        "        .filterDate(date_start, date_end)\n",
        "\n",
        "    l8 = scale_factor_bands(USE_INT_VALUES, l8) \\\n",
        "        .select(\n",
        "            ['SR_B2', 'SR_B3', 'SR_B4', 'SR_B5', 'SR_B6', 'SR_B7', 'QA_PIXEL', 'ST_B10'],\n",
        "            bands\n",
        "        ) \\\n",
        "        .map(lambda image: image.set('time', image.get('system:time_start')))\n",
        "\n",
        "\n",
        "\n",
        "    l9 = ee.ImageCollection('LANDSAT/LC09/C02/T1_L2') \\\n",
        "        .filter(ee.Filter.lte('CLOUD_COVER', cloud_cover)) \\\n",
        "        .filterBounds(roi) \\\n",
        "        .filterDate(date_start, date_end)\n",
        "\n",
        "    l9 = scale_factor_bands(USE_INT_VALUES, l9) \\\n",
        "        .select(\n",
        "            ['SR_B2', 'SR_B3', 'SR_B4', 'SR_B5', 'SR_B6', 'SR_B7', 'QA_PIXEL', 'ST_B10'],\n",
        "            bands\n",
        "        ) \\\n",
        "        .map(lambda image: image.set('time', image.get('system:time_start')))\n",
        "\n",
        "\n",
        "    if SENSOR == 'LANDSAT':\n",
        "        collection = l5.merge(l7).merge(l8).merge(l9)\n",
        "    else:\n",
        "        collection = ee.ImageCollection(ASSET_SENTINEL)\\\n",
        "            .filter(ee.Filter.lte('CLOUD_COVER', cloud_cover)) \\\n",
        "            .filterBounds(roi) \\\n",
        "            .filterDate(date_start, date_end)\\\n",
        "            .linkCollection(cloud_prob_sentinel, [QA_BAND])\\\n",
        "            .map(lambda img: img.updateMask(img.select(QA_BAND).gte(CLEAR_THRESHOLD)))\n",
        "\n",
        "    if USE_INT_VALUES:\n",
        "        collection = collection \\\n",
        "            .map(get_fractions) \\\n",
        "            .map(get_ndfi) \\\n",
        "            .map(lambda image: image.set('cloudTresh', cloud_thresh)) \\\n",
        "            .map(remove_cloud_shadow)\n",
        "    else:\n",
        "        collection = collection \\\n",
        "            .map(get_fractions) \\\n",
        "            .map(get_ndfi) \\\n",
        "            .map(lambda image: image.set('cloudTresh', cloud_thresh)) \\\n",
        "            .map(remove_cloud_shadow)\n",
        "\n",
        "    return collection\n",
        "\n",
        "\n",
        "def remove_cloud_shadow(image):\n",
        "    image = ee.Image(image)\n",
        "    qa = image.select('qa_pixel')\n",
        "\n",
        "    if USE_INT_VALUES:\n",
        "        cloud_threshold = image.select('cloud').lt(ee.Number(image.get('cloudTresh')))\n",
        "    else:\n",
        "        cloud_threshold = image.select('cloud').lt(0.025)\n",
        "\n",
        "    cond = cloud_threshold\n",
        "    kernel = ee.Kernel.euclidean(60, 'meters')\n",
        "    proximity = cond.distance(kernel, False)\n",
        "\n",
        "    cond = cond.where(proximity.gt(0), 0)\n",
        "    image = image.updateMask(cond)\n",
        "\n",
        "    kernel = ee.Kernel.euclidean(60, 'meters')\n",
        "    proximity = image.select('ndfi').unmask(-1).eq(-1).distance(kernel, False)\n",
        "\n",
        "    cond = cond.where(proximity.gt(0), 0)\n",
        "    image = image.updateMask(cond)\n",
        "\n",
        "    return image\n",
        "\n",
        "\n",
        "def scale_image(image):\n",
        "    optical_bands = image.select('SR_B.') \\\n",
        "        .multiply(0.0000275) \\\n",
        "        .add(-0.2) \\\n",
        "        .multiply(10000)\n",
        "\n",
        "    thermal_bands = image.select('ST_B.*') \\\n",
        "        .multiply(0.00341802) \\\n",
        "        .add(149.0) \\\n",
        "        .multiply(10)\n",
        "\n",
        "    image = image.addBands(optical_bands, None, True)\n",
        "    image = image.addBands(thermal_bands, None, True)\n",
        "\n",
        "    return image\n",
        "\n",
        "\n",
        "def scale_factor_bands(is_int, collection):\n",
        "    if is_int:\n",
        "        collection = collection.map(scale_image)\n",
        "    else:\n",
        "        collection = collection.map(lambda image: image.multiply(0.0000275).add(-0.2).selfMask().copyProperties(image))\n",
        "\n",
        "    return collection\n"
      ],
      "metadata": {
        "colab": {
          "base_uri": "https://localhost:8080/",
          "height": 17
        },
        "id": "Zc8cIiXSLv66",
        "outputId": "2f5f862a-0e4d-41b0-dc58-a7f1a5bb5404"
      },
      "execution_count": null,
      "outputs": [
        {
          "output_type": "display_data",
          "data": {
            "text/plain": [
              "<IPython.core.display.HTML object>"
            ],
            "text/html": [
              "\n",
              "            <style>\n",
              "                .geemap-dark {\n",
              "                    --jp-widgets-color: white;\n",
              "                    --jp-widgets-label-color: white;\n",
              "                    --jp-ui-font-color1: white;\n",
              "                    --jp-layout-color2: #454545;\n",
              "                    background-color: #383838;\n",
              "                }\n",
              "                    \n",
              "                .geemap-dark .jupyter-button {\n",
              "                    --jp-layout-color3: #383838;\n",
              "                }\n",
              "                \n",
              "                .geemap-colab {\n",
              "                    background-color: var(--colab-primary-surface-color, white);\n",
              "                }\n",
              "                    \n",
              "                .geemap-colab .jupyter-button {\n",
              "                    --jp-layout-color3: var(--colab-primary-surface-color, white);\n",
              "                }\n",
              "            </style>\n",
              "            "
            ]
          },
          "metadata": {}
        }
      ]
    },
    {
      "cell_type": "markdown",
      "source": [
        "## Basic Input Data"
      ],
      "metadata": {
        "id": "tqyRG-XFQx7E"
      }
    },
    {
      "cell_type": "code",
      "source": [
        "collectionT0 = get_collection(PERIOD_T0[0], PERIOD_T0[1], 50, YOUR_ROI, 0.3)\n",
        "collectionT0 = collectionT0.select('ndfi')\n",
        "\n",
        "collectionT1 = get_collection(PERIOD_T1[0], PERIOD_T1[1], 50, YOUR_ROI,  0.3)\n",
        "collectionT1 = collectionT1.select('ndfi')\n",
        "\n",
        "# just a median mosaic\n",
        "mosaic = collectionT1.reduce(ee.Reducer.median())"
      ],
      "metadata": {
        "colab": {
          "base_uri": "https://localhost:8080/",
          "height": 17
        },
        "id": "HHZK2_RTQ19q",
        "outputId": "093c6c67-b4ab-491b-c624-f0aee461b6a7"
      },
      "execution_count": null,
      "outputs": [
        {
          "output_type": "display_data",
          "data": {
            "text/plain": [
              "<IPython.core.display.HTML object>"
            ],
            "text/html": [
              "\n",
              "            <style>\n",
              "                .geemap-dark {\n",
              "                    --jp-widgets-color: white;\n",
              "                    --jp-widgets-label-color: white;\n",
              "                    --jp-ui-font-color1: white;\n",
              "                    --jp-layout-color2: #454545;\n",
              "                    background-color: #383838;\n",
              "                }\n",
              "                    \n",
              "                .geemap-dark .jupyter-button {\n",
              "                    --jp-layout-color3: #383838;\n",
              "                }\n",
              "                \n",
              "                .geemap-colab {\n",
              "                    background-color: var(--colab-primary-surface-color, white);\n",
              "                }\n",
              "                    \n",
              "                .geemap-colab .jupyter-button {\n",
              "                    --jp-layout-color3: var(--colab-primary-surface-color, white);\n",
              "                }\n",
              "            </style>\n",
              "            "
            ]
          },
          "metadata": {}
        }
      ]
    },
    {
      "cell_type": "markdown",
      "source": [
        "## Display Data"
      ],
      "metadata": {
        "id": "Nq0xkRFxSLMT"
      }
    },
    {
      "cell_type": "code",
      "source": [
        "palette = 'FFFFFF,FFFCFF,FFF9FF,FFF7FF,FFF4FF,FFF2FF,FFEFFF,FFECFF,FFEAFF,FFE7FF,'+\\\n",
        "  'FFE5FF,FFE2FF,FFE0FF,FFDDFF,FFDAFF,FFD8FF,FFD5FF,FFD3FF,FFD0FF,FFCEFF,'+\\\n",
        "  'FFCBFF,FFC8FF,FFC6FF,FFC3FF,FFC1FF,FFBEFF,FFBCFF,FFB9FF,FFB6FF,FFB4FF,'+\\\n",
        "  'FFB1FF,FFAFFF,FFACFF,FFAAFF,FFA7FF,FFA4FF,FFA2FF,FF9FFF,FF9DFF,FF9AFF,'+\\\n",
        "  'FF97FF,FF95FF,FF92FF,FF90FF,FF8DFF,FF8BFF,FF88FF,FF85FF,FF83FF,FF80FF,'+\\\n",
        "  'FF7EFF,FF7BFF,FF79FF,FF76FF,FF73FF,FF71FF,FF6EFF,FF6CFF,FF69FF,FF67FF,'+\\\n",
        "  'FF64FF,FF61FF,FF5FFF,FF5CFF,FF5AFF,FF57FF,FF55FF,FF52FF,FF4FFF,FF4DFF,'+\\\n",
        "  'FF4AFF,FF48FF,FF45FF,FF42FF,FF40FF,FF3DFF,FF3BFF,FF38FF,FF36FF,FF33FF,'+\\\n",
        "  'FF30FF,FF2EFF,FF2BFF,FF29FF,FF26FF,FF24FF,FF21FF,FF1EFF,FF1CFF,FF19FF,'+\\\n",
        "  'FF17FF,FF14FF,FF12FF,FF0FFF,FF0CFF,FF0AFF,FF07FF,FF05FF,FF02FF,FF00FF,'+\\\n",
        "  'FF00FF,FF0AF4,FF15E9,FF1FDF,FF2AD4,FF35C9,FF3FBF,FF4AB4,FF55AA,FF5F9F,'+\\\n",
        "  'FF6A94,FF748A,FF7F7F,FF8A74,FF946A,FF9F5F,FFAA55,FFB44A,FFBF3F,FFC935,'+\\\n",
        "  'FFD42A,FFDF1F,FFE915,FFF40A,FFFF00,FFFF00,FFFB00,FFF700,FFF300,FFF000,'+\\\n",
        "  'FFEC00,FFE800,FFE400,FFE100,FFDD00,FFD900,FFD500,FFD200,FFCE00,FFCA00,'+\\\n",
        "  'FFC600,FFC300,FFBF00,FFBB00,FFB700,FFB400,FFB000,FFAC00,FFA800,FFA500,'+\\\n",
        "  'FFA500,F7A400,F0A300,E8A200,E1A200,D9A100,D2A000,CA9F00,C39F00,BB9E00,'+\\\n",
        "  'B49D00,AC9C00,A59C00,9D9B00,969A00,8E9900,879900,7F9800,789700,709700,'+\\\n",
        "  '699600,619500,5A9400,529400,4B9300,439200,349100,2D9000,258F00,1E8E00,'+\\\n",
        "  '168E00,0F8D00,078C00,008C00,008C00,008700,008300,007F00,007A00,007600,'+\\\n",
        "  '007200,006E00,006900,006500,006100,005C00,005800,005400,005000,004C00'\n",
        "\n",
        "\n",
        "Map.centerObject(YOUR_ROI, 10)\n",
        "Map\n"
      ],
      "metadata": {
        "colab": {
          "base_uri": "https://localhost:8080/",
          "height": 621,
          "referenced_widgets": [
            "757e7c18e4ca449291d6179ce1b2146d",
            "e3151328e47a44989df4b07c1a606967",
            "8cd81270cf6041eab2ed279b7a09bc7f",
            "5a8a4ed0ba3b46a0aff146e6ad9581e2",
            "5198fad102664e3fb37472642b6288d1",
            "b829b31177f6417f9cb86bb53757ead6",
            "8296fe8cee0746d2935d31dde960b0af",
            "13142719fcc744cfb073f1407eb64520",
            "fb68923c224346d78dad0bfc85adb2ea",
            "cc56d6a802e7458ea0dbeccec6e18d4f",
            "f10151d1e1ed4f828af0119547f0a50c",
            "5213455c88484ccc8c89262931d08c21",
            "8be261a0c3bd4a3abd9a927b8d581fd9",
            "5271c62eaf3e445a8eb2ac157b560c9b",
            "a277e6f3148244e49192c6161496317b",
            "ed5c9277978c40e8a9c5333be66768cc",
            "81f9db4498ff44b1bc27533903a9b25a",
            "6a818648ad5247df83a590407f205990",
            "855d7a043f634bd0ade3b16f0baf7adc",
            "902e383bf3d942b3a28c71ae41ab15e8",
            "a090407daaa54e008e50bccc3785983e",
            "7979e60eaa274097b55fcf489eda7567",
            "87802df2b9cc4a7d8bbea09cd23be2a6",
            "f08b21f593fd425ab077cb53b37c8a76",
            "d64f8b4773374fc48fd0b6d3f30ec925"
          ]
        },
        "id": "7HLRFrQ8SOIq",
        "outputId": "387d0dab-45ed-4af0-bf22-810bb648d555"
      },
      "execution_count": null,
      "outputs": [
        {
          "output_type": "display_data",
          "data": {
            "text/plain": [
              "<IPython.core.display.HTML object>"
            ],
            "text/html": [
              "\n",
              "            <style>\n",
              "                .geemap-dark {\n",
              "                    --jp-widgets-color: white;\n",
              "                    --jp-widgets-label-color: white;\n",
              "                    --jp-ui-font-color1: white;\n",
              "                    --jp-layout-color2: #454545;\n",
              "                    background-color: #383838;\n",
              "                }\n",
              "                    \n",
              "                .geemap-dark .jupyter-button {\n",
              "                    --jp-layout-color3: #383838;\n",
              "                }\n",
              "                \n",
              "                .geemap-colab {\n",
              "                    background-color: var(--colab-primary-surface-color, white);\n",
              "                }\n",
              "                    \n",
              "                .geemap-colab .jupyter-button {\n",
              "                    --jp-layout-color3: var(--colab-primary-surface-color, white);\n",
              "                }\n",
              "            </style>\n",
              "            "
            ]
          },
          "metadata": {}
        },
        {
          "output_type": "display_data",
          "data": {
            "text/plain": [
              "Map(center=[-3.0915996970757798, -47.59406515861764], controls=(WidgetControl(options=['position', 'transparen…"
            ],
            "application/vnd.jupyter.widget-view+json": {
              "version_major": 2,
              "version_minor": 0,
              "model_id": "757e7c18e4ca449291d6179ce1b2146d"
            }
          },
          "metadata": {
            "application/vnd.jupyter.widget-view+json": {
              "colab": {
                "custom_widget_manager": {
                  "url": "https://ssl.gstatic.com/colaboratory-static/widgets/colab-cdn-widget-manager/b3e629b1971e1542/manager.min.js"
                }
              }
            }
          }
        }
      ]
    },
    {
      "cell_type": "code",
      "source": [
        "\n",
        "Map.addLayer(mosaic, {\n",
        "    min:-1,\n",
        "    max:1,\n",
        "    palette:['red', 'orange', 'yellow', 'green'] # change this palette\n",
        "}, 'NDFI')\n",
        "\n",
        "\n",
        "\n"
      ],
      "metadata": {
        "colab": {
          "base_uri": "https://localhost:8080/",
          "height": 17
        },
        "id": "6Co397yTTJly",
        "outputId": "3558f699-f297-4e13-85df-c2b63b5c9db1"
      },
      "execution_count": null,
      "outputs": [
        {
          "output_type": "display_data",
          "data": {
            "text/plain": [
              "<IPython.core.display.HTML object>"
            ],
            "text/html": [
              "\n",
              "            <style>\n",
              "                .geemap-dark {\n",
              "                    --jp-widgets-color: white;\n",
              "                    --jp-widgets-label-color: white;\n",
              "                    --jp-ui-font-color1: white;\n",
              "                    --jp-layout-color2: #454545;\n",
              "                    background-color: #383838;\n",
              "                }\n",
              "                    \n",
              "                .geemap-dark .jupyter-button {\n",
              "                    --jp-layout-color3: #383838;\n",
              "                }\n",
              "                \n",
              "                .geemap-colab {\n",
              "                    background-color: var(--colab-primary-surface-color, white);\n",
              "                }\n",
              "                    \n",
              "                .geemap-colab .jupyter-button {\n",
              "                    --jp-layout-color3: var(--colab-primary-surface-color, white);\n",
              "                }\n",
              "            </style>\n",
              "            "
            ]
          },
          "metadata": {}
        }
      ]
    }
  ]
}